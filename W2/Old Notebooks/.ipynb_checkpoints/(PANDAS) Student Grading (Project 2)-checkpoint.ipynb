{
 "cells": [
  {
   "cell_type": "code",
   "execution_count": 11,
   "metadata": {
    "collapsed": true
   },
   "outputs": [],
   "source": [
    "import numpy as np\n",
    "import matplotlib.pyplot as plt\n",
    "import pandas as pd\n",
    "import random"
   ]
  },
  {
   "cell_type": "code",
   "execution_count": 14,
   "metadata": {},
   "outputs": [],
   "source": [
    "# Generate valid and invalid data and put it in a file\n",
    "def write_csv_file(in_file, out_file):\n",
    "    \n",
    "    studynumbers = []\n",
    "    names = []\n",
    "    \n",
    "    with open(in_file, \"r\") as inputfile:\n",
    "        ln = 1\n",
    "        for line in inputfile:\n",
    "            if ln > 1:\n",
    "                entry = line.split(\",\") # Set spaces as delimiter between numbers\n",
    "                studynumbers.append(entry[0])\n",
    "                names.append(entry[1])\n",
    "            ln += 1\n",
    "                \n",
    "                \n",
    "    with open(out_file, \"w\") as outputfile:\n",
    "        n = len(studynumbers)\n",
    "        m = 10\n",
    "        seven_step = [12, 12, 12, 10, 10, 10, 10, 7, 7, 7, 7, 7, 7, 7, 7, 7, 7, 4, 4, 4, 4, 4, 4, 2, 2, 2, 2, 0, 0, 0, -3]\n",
    "\n",
    "        header = 'StudentID,Name,'\n",
    "        for k in range(1, m+1): \n",
    "            header += 'Assignment' + str(k) + ','\n",
    "        outputfile.write(header[:-1] + \"\\n\") # Minus the last comma\n",
    "\n",
    "        for i in range(n):\n",
    "            studyno = 's' + studynumbers[i]\n",
    "            name = names[i]\n",
    "            line = ('{0},{1},').format(studyno, name)\n",
    "            for j in range(m):\n",
    "                line += str(random.choice(seven_step)) + ','\n",
    "            outputfile.write(line[:-1] + \"\\n\")"
   ]
  },
  {
   "cell_type": "code",
   "execution_count": 15,
   "metadata": {},
   "outputs": [],
   "source": [
    "write_csv_file('file.csv', 'newfile.csv')"
   ]
  },
  {
   "cell_type": "code",
   "execution_count": 16,
   "metadata": {
    "collapsed": true
   },
   "outputs": [],
   "source": [
    "def roundGrade(grades):\n",
    "    # Seven step scale for reference\n",
    "    seven_step = [12, 10, 7, 4, 2, 0, -3]\n",
    "    rounded = []\n",
    "    \n",
    "    # Find nearest match for each input grade. Round up if it's a tie.\n",
    "    for grade in grades:\n",
    "        nearest = min(seven_step, key=lambda x:abs(x - grade))\n",
    "        rounded.append(nearest)\n",
    "        \n",
    "    return rounded"
   ]
  },
  {
   "cell_type": "code",
   "execution_count": 207,
   "metadata": {},
   "outputs": [],
   "source": [
    "def computeFinalGrades(grades):\n",
    "    # If less than 2 assignments, return the original grades\n",
    "    grades = np.array(grades)\n",
    "    if np.ndim(grades) <= 1: \n",
    "        return grades \n",
    "    \n",
    "    students = np.array(grades).shape[0]\n",
    "    assignments = np.array(grades).shape[1]\n",
    "    filtered_grades = []\n",
    "    \n",
    "    # For each student, check if they have gotten a -3\n",
    "    for i in range(students):\n",
    "        if -3 in grades[i]:\n",
    "            filtered_grades.append([-3] * assignments)\n",
    "        else:\n",
    "            filtered_grades.append(grades[i])\n",
    "    \n",
    "    # Take sum of the filtered grades and subtract the worst grade\n",
    "    grade_sums = np.sum(np.array(filtered_grades), axis=1) - np.min(np.array(filtered_grades), axis=1)\n",
    "    \n",
    "    # Mean Grades = Sum of Grades / Assignments - 1 (Since one grade was removed)\n",
    "    return roundGrade(grade_sums / (assignments - 1))"
   ]
  },
  {
   "cell_type": "code",
   "execution_count": 208,
   "metadata": {
    "collapsed": true
   },
   "outputs": [],
   "source": [
    "# Prevents grades from overlapping once plotted, by adding a small factor\n",
    "def fixDuplicates(row):\n",
    "    seen = []\n",
    "    for i in range(len(row)):\n",
    "        # If grade has already been seen, adjust the grade slightly\n",
    "        if row[i] in seen:\n",
    "            row[i] += np.random.uniform(-0.1, 0.1)\n",
    "        else: seen.append(row[i])\n",
    "    return row"
   ]
  },
  {
   "cell_type": "code",
   "execution_count": 209,
   "metadata": {
    "collapsed": true
   },
   "outputs": [],
   "source": [
    "def randomColor():\n",
    "    # Produces a random hex color code. Used when plotting assignment mean grade.\n",
    "    return '#' + ''.join([random.choice('0123456789ABCDEF') for x in range(6)])"
   ]
  },
  {
   "cell_type": "code",
   "execution_count": null,
   "metadata": {
    "collapsed": true
   },
   "outputs": [],
   "source": []
  },
  {
   "cell_type": "code",
   "execution_count": 210,
   "metadata": {},
   "outputs": [],
   "source": [
    "def loadGrades(filename):\n",
    "    # Read file contents into a Pandas Dataframe\n",
    "    df = pd.read_csv(filename)\n",
    "    grade_df = df\n",
    "    \n",
    "    # M = Number of Assignments\n",
    "    M = len(df.columns) - 2\n",
    "    \n",
    "    # 7-step scale for reference\n",
    "    seven_step = [12, 10, 7, 4, 2, 0, -3]\n",
    "\n",
    "    # Grades matrix, and error list\n",
    "    all_grades = []\n",
    "    errors = []\n",
    "    seen_students = []\n",
    "        \n",
    "    # Iterate through dataframe rows\n",
    "    for student_row in df.itertuples():\n",
    "        \n",
    "        # Row number is given by the first element in the dataframe\n",
    "        row_no = student_row[0]\n",
    "        \n",
    "        # Student number is the second element in the dataframe\n",
    "        student_no = student_row[1]\n",
    "        \n",
    "        # If duplicate entry for student name throw error and don't read the row\n",
    "        if student_no in seen_students:\n",
    "            duplicate_err = \"DUPLICATE ERROR: Duplicate entry for student \" + student_no + \" on line \" + str(row_no + 1)\n",
    "            errors.append(duplicate_err)\n",
    "            # Remove the student data from the grade dataframe\n",
    "            grade_df = grade_df.drop(df.index[row_no])\n",
    "            \n",
    "        # If not a duplicate, try and parse the row\n",
    "        else:\n",
    "            seen_students.append(student_no)\n",
    "            try:\n",
    "                # Check that all elements are numbers, and that they are a valid 7-step grade.\n",
    "                # Pandas reads missing columns as the value 'NaN'.\n",
    "                grade_row = [int(x) for x in student_row[3:M+3] if int(x) in seven_step]\n",
    "                \n",
    "                # Check that all numbers read very valid grades\n",
    "                if len(grade_row) == M:\n",
    "                    all_grades.append(grade_row)\n",
    "                else:\n",
    "                    value_err = \"VALUE ERROR: Row contains non valid grade on line \" + str(row_no + 1)\n",
    "                    errors.append(value_err)\n",
    "                    # Remove the student data from the grade dataframe\n",
    "                    grade_df = grade_df.drop(df.index[row_no])\n",
    "                    \n",
    "            # If not a number -> Save error\n",
    "            except ValueError:\n",
    "                parse_err = \"PARSE ERROR: Row contains non-number as a grade, or is missing a grade on line \" + str(row_no + 1)\n",
    "                errors.append(parse_err)\n",
    "                # Remove the student data from the grade dataframe\n",
    "                grade_df = grade_df.drop(df.index[row_no])\n",
    "            \n",
    "    return [all_grades, grade_df, errors]"
   ]
  },
  {
   "cell_type": "code",
   "execution_count": 211,
   "metadata": {
    "collapsed": true
   },
   "outputs": [],
   "source": [
    "def displayGrades(grade_matrix):\n",
    "    # Data frame is at index 1 in array from loadGrades\n",
    "    df = grade_matrix[1]\n",
    "    df['Final Grade'] = computeFinalGrades(grade_matrix[0])\n",
    "    print(df.sort_values([\"Name\"], ascending=True).to_string())"
   ]
  },
  {
   "cell_type": "code",
   "execution_count": 212,
   "metadata": {
    "collapsed": true
   },
   "outputs": [],
   "source": [
    "def displayDataErrors(grades_matrix):\n",
    "    errors = grades_matrix[2]\n",
    "    for error in errors:\n",
    "        print(error)"
   ]
  },
  {
   "cell_type": "code",
   "execution_count": 213,
   "metadata": {
    "collapsed": true
   },
   "outputs": [],
   "source": [
    "# Plots a bar plot\n",
    "def barPlot(grades):\n",
    "    data = computeFinalGrades(grades)\n",
    "    seven_step = [-3, 0, 2, 4, 7, 10, 12]\n",
    "\n",
    "    plt.hist(data, bins = range(min(data), max(data) + 1))\n",
    "    plt.xticks(seven_step)\n",
    "    plt.title(\"Final Grades for All Students\")\n",
    "    plt.xlabel(\"Grade on the 7-step Scale\")\n",
    "    plt.ylabel(\"Number of Students\")\n",
    "    plt.show()\n",
    "\n",
    "# Plots a linear plot\n",
    "def linearPlot(grades):\n",
    "    grades = np.array(grades)\n",
    "    students = grades.shape[0]\n",
    "    assignments = grades.shape[1]\n",
    "    \n",
    "    # Each assignment grade gets the same color as the vertical line representing the mean grade\n",
    "    colors = [randomColor() for i in range(assignments)]\n",
    "    labels = []\n",
    "    for i in range(assignments):\n",
    "        assignment_title = \"A\" + str(i + 1)\n",
    "        x = [i] * students # Add one x point for each assignment\n",
    "        y = fixDuplicates(grades[:,i]) # Columns = assignment grades\n",
    "        labels.append(assignment_title)\n",
    "        \n",
    "        plt.axhline(y=np.mean(grades[i]), color=colors[i], linestyle='-', label = assignment_title + \" mean grade\")\n",
    "        plt.plot(x, y, '.', color=colors[i])\n",
    "\n",
    "    plt.xticks(range(assignments), labels)\n",
    "    plt.legend(loc='center left', bbox_to_anchor=(1, 0.5))\n",
    "    plt.title(\"All Assignment Grades\")\n",
    "    plt.xlabel(\"Assignment Number\")\n",
    "    plt.ylabel(\"Grade on the 7-step Scale\")\n",
    "    plt.show()\n",
    "    \n",
    "\n",
    "# Makes a barplot and a linear plot.\n",
    "def gradesPlot(grades):\n",
    "    barPlot(grades)\n",
    "    linearPlot(grades)"
   ]
  },
  {
   "cell_type": "code",
   "execution_count": 214,
   "metadata": {
    "scrolled": false
   },
   "outputs": [
    {
     "data": {
      "image/png": "[encoded data removed]",
      "text/plain": [
       "<matplotlib.figure.Figure at 0x113ef12b0>"
      ]
     },
     "metadata": {},
     "output_type": "display_data"
    },
    {
     "data": {
      "image/png": "[encoded data removed]",
      "text/plain": [
       "<matplotlib.figure.Figure at 0x1143c54a8>"
      ]
     },
     "metadata": {},
     "output_type": "display_data"
    }
   ],
   "source": [
    "read_data = loadGrades('badfile.csv')\n",
    "read_data[2]\n",
    "np.array(read_data[0]).shape\n",
    "gradesPlot(read_data[0])"
   ]
  },
  {
   "cell_type": "code",
   "execution_count": 215,
   "metadata": {},
   "outputs": [
    {
     "name": "stdout",
     "output_type": "stream",
     "text": [
      "   StudentID        Name  A1  A2  A3  A4  A5  A6  A7  A8  A9   A10  Final Grade\n",
      "0    s000000   Student 0   4   7   7  10   7   7   2   2   2   7.0            7\n",
      "1    s000001   Student 1   4   7   7  10   7   7   2   2   2  10.0            7\n",
      "9    s000010  Student 10   4   4  -3  10   7   7   2   7   7   7.0           -3\n",
      "10   s000011  Student 11   0   4   7  10   2   4   7   4   7   4.0            4\n",
      "11   s000012  Student 12  10  10   7   7   4   7   7   4   0  10.0            7\n",
      "12   s000013  Student 13  12   7   2   7   7   7   4   7   4   4.0            7\n",
      "13   s000014  Student 14   2   7   4  10  12  10  12   4   2   7.0            7\n",
      "14   s000015  Student 15  -3   4   7   2   0  10   7   7  12  10.0           -3\n",
      "17   s000017  Student 17   7  -3   4   2  10   7   7   7   0  10.0           -3\n",
      "18   s000018  Student 18   4   4   2   7   4   2   0   7   2  10.0            4\n",
      "2    s000002   Student 2   4   7   7  10   7   7   2   2   2  10.0            7\n",
      "19   s000020  Student 20   2   4   4   7   7   7   2   7  10   2.0            7\n",
      "20   s000021  Student 21   2   7   0   7   0   2  10   7  10   7.0            7\n",
      "21   s000022  Student 22   0  10  10  10   7   7   7   2  12  12.0           10\n",
      "22   s000023  Student 23   0   7   7   0   2   2   7   2   0  10.0            4\n",
      "23   s000024  Student 24  10   2   7   7   7  -3  10   2  10  10.0           -3\n",
      "24   s000025  Student 25  12   2   0  -3   7  12   7   7   4  -3.0           -3\n",
      "25   s000026  Student 26   2   4   0  10   4   7  10   7   7  -3.0           -3\n",
      "26   s000027  Student 27  10   7   7   7   7   4  12   4  10  10.0            7\n",
      "27   s000028  Student 28   4   7   7  10   4   7   7   4  10   7.0            7\n",
      "28   s000029  Student 29   4   2  10  10  10   2   7   7   7   0.0            7\n",
      "3    s000003   Student 3   7  10   2   0   7   4   7  10  10   4.0            7\n",
      "4    s000004   Student 4   4   7   2   4   0   4   4   7   7   7.0            4\n",
      "7    s000007   Student 7   4   7   4   7   2   7   0   7   4   7.0            4\n",
      "8    s000008   Student 8   4  10   7   4   4   7   4   0   7   0.0            4\n"
     ]
    }
   ],
   "source": [
    "displayGrades(read_data)"
   ]
  },
  {
   "cell_type": "code",
   "execution_count": 216,
   "metadata": {},
   "outputs": [
    {
     "name": "stdout",
     "output_type": "stream",
     "text": [
      "PARSE ERROR: Row contains non-number as a grade, or is missing a grade on line 6\n",
      "VALUE ERROR: Row contains non valid grade on line 7\n",
      "DUPLICATE ERROR: Duplicate entry for student s000015 on line 16\n",
      "PARSE ERROR: Row contains non-number as a grade, or is missing a grade on line 17\n"
     ]
    }
   ],
   "source": [
    "displayDataErrors(read_data)"
   ]
  },
  {
   "cell_type": "code",
   "execution_count": null,
   "metadata": {
    "collapsed": true
   },
   "outputs": [],
   "source": []
  },
  {
   "cell_type": "code",
   "execution_count": 217,
   "metadata": {},
   "outputs": [
    {
     "data": {
      "text/plain": [
       "'.csv'"
      ]
     },
     "execution_count": 217,
     "metadata": {},
     "output_type": "execute_result"
    }
   ],
   "source": [
    "import os.path\n",
    "\n",
    "filename = \"text.csv\"\n",
    "extension = os.path.splitext(filename)[1]\n",
    "extension"
   ]
  },
  {
   "cell_type": "code",
   "execution_count": 218,
   "metadata": {},
   "outputs": [
    {
     "name": "stdout",
     "output_type": "stream",
     "text": [
      "Jeg er {k} år gammel og har {l} hunde\n"
     ]
    }
   ],
   "source": [
    "k = 8\n",
    "l = 2\n",
    "print('Jeg er {k} år gammel og har {l} hunde')\n",
    "\n",
    "\n"
   ]
  },
  {
   "cell_type": "code",
   "execution_count": 219,
   "metadata": {},
   "outputs": [
    {
     "name": "stdout",
     "output_type": "stream",
     "text": [
      "['jeg', 'er', 'tre', 'år']\n"
     ]
    }
   ],
   "source": [
    "print(p)"
   ]
  },
  {
   "cell_type": "code",
   "execution_count": 220,
   "metadata": {},
   "outputs": [
    {
     "data": {
      "text/plain": [
       "['jeg', 'år']"
      ]
     },
     "execution_count": 220,
     "metadata": {},
     "output_type": "execute_result"
    }
   ],
   "source": [
    "\n",
    "k = [1,4]\n",
    "p = ['jeg', 'er', 'tre', 'år']\n",
    "[x for x in p if p.index(x)+1 in k] "
   ]
  },
  {
   "cell_type": "code",
   "execution_count": 221,
   "metadata": {},
   "outputs": [
    {
     "ename": "SyntaxError",
     "evalue": "'return' outside function (<ipython-input-221-e6455396a192>, line 5)",
     "output_type": "error",
     "traceback": [
      "\u001b[0;36m  File \u001b[0;32m\"<ipython-input-221-e6455396a192>\"\u001b[0;36m, line \u001b[0;32m5\u001b[0m\n\u001b[0;31m    return\u001b[0m\n\u001b[0m    ^\u001b[0m\n\u001b[0;31mSyntaxError\u001b[0m\u001b[0;31m:\u001b[0m 'return' outside function\n"
     ]
    }
   ],
   "source": [
    "k = 0\n",
    "j = 0\n",
    "while j < 5:\n",
    "    j += 1\n",
    "    repeat\n",
    "    k += 1\n"
   ]
  },
  {
   "cell_type": "code",
   "execution_count": 23,
   "metadata": {},
   "outputs": [
    {
     "name": "stdout",
     "output_type": "stream",
     "text": [
      "StudentID                 Name  Assignment1  Assignment2  Assignment3  Assignment4  Assignment5  Assignment6  Assignment7  Assignment8  Assignment9  Assignment10\n",
      " s154393         Isaac Newman           10            7            7            4            4            4            7           10            0             7\n",
      " s115245   Sofia Kovalevskaya            7            4            4            7            7            7            7           10            7             4\n",
      " s120578          Ida Haendel           10           12            7            0            7            4            2            2            0            -3\n",
      " s124444        Ebn Meskavayh            7            7            7            2            7            4            7            7            7            12\n",
      " s146322     Eleanora Romanov           -3           -3            7            7            7           -3            4           12            2            -3\n",
      " s125442      Haruki Murakami            7            2            7            7            4           10            2            7            7             7\n",
      " s119116       Ashley Johnson            7            4            2           -3            7           10           10            0           10             7\n",
      " s154141         Eric Clapton            7           -3           10            7           -3            4            7            4            0             7\n",
      " s117388       Natalie Dormer            7           -3            0            4            0           -3            2            7           10             4\n",
      " s155364       Beatrix Potter            0            2           12           -3            0            7            7            0           10             4\n",
      " s156109         Liam O'Brien            4           10            7            7           12           -3            0            2           10             0\n",
      " s121414         Jane Goodall            4            7           -3            7            2            2           12            4            7             7\n",
      " s135513        Michael Palin           -3           10            0            7            4            7           -3            7           -3             7\n",
      " s136104         Ishmael Beah            7           10           12            7            7            7            4           10            7            12\n",
      " s164827      Delilah Belfrie           10            4           10            4            4            0            4            4            4             4\n",
      " s140686          Felicia Day            2           10            7            7            7            0            4            2            7            -3\n",
      " s158271       Taliesin Jaffe            7           10           10            2           10            7           10            7            2            10\n",
      " s131586          Marisha Ray           10           10            7           12           10            7            2           -3            7             7\n",
      " s107932        Hector Lector           12            7            4            7           12            2            7           -3           12             2\n",
      " s160101          Marie Curie            7            2            7            2            7           12            7           10           12             7\n",
      " s111227        Chinua Achebe            4           -3            7            7            0            4            7            7            7            -3\n",
      " s148126           Ching Shih            2           10            7            7            2            7            4           10            7            10\n",
      " s149070        Dennis Brutus            2           10           -3            4           10           10            2           -3            2            10\n",
      " s117650       Chien-Shung Wu            2            7            2            2            7            2            7            4            2             7\n",
      " s135683    Rosalind Franklin            7            7            7            2            7            0            7            4           10             2\n",
      " s172632          Oscar Wilde            7            4            4            7           10            2            2           12            4             2\n",
      " s168344  Shirley Ann Jackson            7            7           -3           10           10            2           10           10            7            -3\n",
      " s149199       Matthew Mercer            7            4            7           12            0            2            0           10           12            10\n",
      " s142345      Terry Pratchett            4           12           10           12            7            7            4            7            7             7\n",
      " s105794    Ernest Hemmingway           12            7            2            7            7            7           10            7            4             4\n",
      " s101898        Martha Rayner            7           10           12           12            7           12            0            2            4            12\n",
      " s124530          Audre Lorde           10            4            7            7            7           12            7            7            7            12\n",
      " s103040  Victor Frankenstein           -3            7            7           10            7            4            7            7            7             4\n",
      " s157551          Donna Noble            7           -3            4           12           10            4            7            4           10             7\n",
      " s166695     Travis Willigham            7            4            0           -3            7            0           12            0           10             0\n",
      " s177733     Jabir ibn Hayyan           -3            7           12            2           12            7            0            7            4             4\n",
      " s130676         Gcina Mhlope            7           -3            7            7           10           10            4           -3            7             7\n",
      " s164724       Dorris Lessing            7            2            7            4            4            7            7            7            4             0\n",
      " s108570         Laura Bailey           10           10            4           10            7           12            7           12           12             7\n",
      " s102735          Neil Gaiman            4            7           10            4           10            0           12           10            2             7\n",
      " s106188   Simone de Beauvoir           10            0           -3            2            7            2            7           12            4            -3\n",
      " s165279       Gertrude Stein            0           12            4           -3            4            7            7            7           -3             2\n",
      " s113644         Ada Lovelace            0           10           12            7           -3            4            0           12            2             2\n",
      " s179542         Sylvia Plath            2            4            0           10            4            0           12            4            7             7\n",
      " s129020      Margaret Atwood            7           10           12           10            7            4           -3           12            4             7\n",
      " s101531         Nikola Tesla            4            7           12            7            7            7           10            4            4            12\n",
      " s105249        Louis Pasteur            2            4            7           10            7            4            4            7            2            10\n",
      " s153208    Katherine Johnson            4            2            7            2            0            2            0           10            0            10\n",
      " s133315       Virginia Woolf           -3            4            7           -3            7            4            2           10           12            12\n",
      " s112710        Joseph Conrad            4            4            2           10            4            7            0            7            7             4\n"
     ]
    }
   ],
   "source": [
    "df = pd.read_csv('newfile.csv')\n",
    "print(df.to_string(index=False))"
   ]
  },
  {
   "cell_type": "code",
   "execution_count": 6,
   "metadata": {},
   "outputs": [
    {
     "data": {
      "text/plain": [
       "5.454545454545454"
      ]
     },
     "execution_count": 6,
     "metadata": {},
     "output_type": "execute_result"
    }
   ],
   "source": [
    "sd = [12, 10, 7, 7, 7, 7, 7, 4, 2, 0, -3]\n",
    "sum(sd) / len(sd)"
   ]
  },
  {
   "cell_type": "code",
   "execution_count": 3,
   "metadata": {},
   "outputs": [
    {
     "data": {
      "text/plain": [
       "7.0"
      ]
     },
     "execution_count": 3,
     "metadata": {},
     "output_type": "execute_result"
    }
   ],
   "source": [
    "sd = [12, 10, 7, 4, 2]\n",
    "sum(sd) / len(sd)"
   ]
  },
  {
   "cell_type": "code",
   "execution_count": 8,
   "metadata": {},
   "outputs": [
    {
     "ename": "NameError",
     "evalue": "name 'mu' is not defined",
     "output_type": "error",
     "traceback": [
      "\u001b[0;31m---------------------------------------------------------------------------\u001b[0m",
      "\u001b[0;31mNameError\u001b[0m                                 Traceback (most recent call last)",
      "\u001b[0;32m<ipython-input-8-0f1a6954e8f4>\u001b[0m in \u001b[0;36m<module>\u001b[0;34m()\u001b[0m\n\u001b[1;32m      1\u001b[0m \u001b[0;32mimport\u001b[0m \u001b[0mnumpy\u001b[0m \u001b[0;32mas\u001b[0m \u001b[0mnp\u001b[0m\u001b[0;34m\u001b[0m\u001b[0m\n\u001b[0;32m----> 2\u001b[0;31m \u001b[0mnp\u001b[0m\u001b[0;34m.\u001b[0m\u001b[0mrandom\u001b[0m\u001b[0;34m.\u001b[0m\u001b[0mnormal\u001b[0m\u001b[0;34m(\u001b[0m\u001b[0mmu\u001b[0m\u001b[0;34m,\u001b[0m \u001b[0msigma\u001b[0m\u001b[0;34m,\u001b[0m \u001b[0;36m10\u001b[0m\u001b[0;34m)\u001b[0m\u001b[0;34m\u001b[0m\u001b[0m\n\u001b[0m",
      "\u001b[0;31mNameError\u001b[0m: name 'mu' is not defined"
     ]
    }
   ],
   "source": [
    "import numpy as np\n",
    "np.random.normal(, sigma, 10)"
   ]
  },
  {
   "cell_type": "code",
   "execution_count": 17,
   "metadata": {},
   "outputs": [
    {
     "data": {
      "text/plain": [
       "'9 er lig 1'"
      ]
     },
     "execution_count": 17,
     "metadata": {},
     "output_type": "execute_result"
    }
   ],
   "source": [
    "k = \"{0} er lig {1}\"\n",
    "k.format(9, 1)"
   ]
  },
  {
   "cell_type": "code",
   "execution_count": 18,
   "metadata": {},
   "outputs": [
    {
     "data": {
      "text/plain": [
       "True"
      ]
     },
     "execution_count": 18,
     "metadata": {},
     "output_type": "execute_result"
    }
   ],
   "source": [
    "k = [1,2,3,4]\n",
    "j = 1.0\n",
    "j in k"
   ]
  },
  {
   "cell_type": "code",
   "execution_count": 19,
   "metadata": {},
   "outputs": [
    {
     "data": {
      "text/plain": [
       "1.0"
      ]
     },
     "execution_count": 19,
     "metadata": {},
     "output_type": "execute_result"
    }
   ],
   "source": [
    "float(1)"
   ]
  },
  {
   "cell_type": "code",
   "execution_count": 22,
   "metadata": {},
   "outputs": [
    {
     "data": {
      "text/plain": [
       "1.231"
      ]
     },
     "execution_count": 22,
     "metadata": {},
     "output_type": "execute_result"
    }
   ],
   "source": [
    "float(\"1.231\")"
   ]
  },
  {
   "cell_type": "code",
   "execution_count": 23,
   "metadata": {},
   "outputs": [
    {
     "ename": "ValueError",
     "evalue": "could not convert string to float: 'das'",
     "output_type": "error",
     "traceback": [
      "\u001b[0;31m---------------------------------------------------------------------------\u001b[0m",
      "\u001b[0;31mValueError\u001b[0m                                Traceback (most recent call last)",
      "\u001b[0;32m<ipython-input-23-250105c0a66b>\u001b[0m in \u001b[0;36m<module>\u001b[0;34m()\u001b[0m\n\u001b[0;32m----> 1\u001b[0;31m \u001b[0mfloat\u001b[0m\u001b[0;34m(\u001b[0m\u001b[0;34m\"das\"\u001b[0m\u001b[0;34m)\u001b[0m\u001b[0;34m\u001b[0m\u001b[0m\n\u001b[0m",
      "\u001b[0;31mValueError\u001b[0m: could not convert string to float: 'das'"
     ]
    }
   ],
   "source": [
    "float(\"das\")"
   ]
  },
  {
   "cell_type": "code",
   "execution_count": 24,
   "metadata": {},
   "outputs": [
    {
     "data": {
      "text/plain": [
       "'hd7da'"
      ]
     },
     "execution_count": 24,
     "metadata": {},
     "output_type": "execute_result"
    }
   ],
   "source": [
    "\"Hd7DA\".lower()"
   ]
  },
  {
   "cell_type": "code",
   "execution_count": 25,
   "metadata": {},
   "outputs": [
    {
     "ename": "NameError",
     "evalue": "name 'NaN' is not defined",
     "output_type": "error",
     "traceback": [
      "\u001b[0;31m---------------------------------------------------------------------------\u001b[0m",
      "\u001b[0;31mNameError\u001b[0m                                 Traceback (most recent call last)",
      "\u001b[0;32m<ipython-input-25-ba2e318d2a92>\u001b[0m in \u001b[0;36m<module>\u001b[0;34m()\u001b[0m\n\u001b[0;32m----> 1\u001b[0;31m \u001b[0ma\u001b[0m \u001b[0;34m=\u001b[0m \u001b[0mNaN\u001b[0m\u001b[0;34m\u001b[0m\u001b[0m\n\u001b[0m",
      "\u001b[0;31mNameError\u001b[0m: name 'NaN' is not defined"
     ]
    }
   ],
   "source": [
    "a = NaN"
   ]
  },
  {
   "cell_type": "code",
   "execution_count": 26,
   "metadata": {},
   "outputs": [
    {
     "ename": "AttributeError",
     "evalue": "'str' object has no attribute 'isnull'",
     "output_type": "error",
     "traceback": [
      "\u001b[0;31m---------------------------------------------------------------------------\u001b[0m",
      "\u001b[0;31mAttributeError\u001b[0m                            Traceback (most recent call last)",
      "\u001b[0;32m<ipython-input-26-a8180b531a86>\u001b[0m in \u001b[0;36m<module>\u001b[0;34m()\u001b[0m\n\u001b[1;32m      1\u001b[0m \u001b[0mk\u001b[0m \u001b[0;34m=\u001b[0m \u001b[0;34m\"12\"\u001b[0m\u001b[0;34m\u001b[0m\u001b[0m\n\u001b[0;32m----> 2\u001b[0;31m \u001b[0mk\u001b[0m\u001b[0;34m.\u001b[0m\u001b[0misnull\u001b[0m\u001b[0;34m(\u001b[0m\u001b[0;34m)\u001b[0m\u001b[0;34m\u001b[0m\u001b[0m\n\u001b[0m",
      "\u001b[0;31mAttributeError\u001b[0m: 'str' object has no attribute 'isnull'"
     ]
    }
   ],
   "source": [
    "k = \"12\"\n",
    "k.isnull()"
   ]
  },
  {
   "cell_type": "code",
   "execution_count": 28,
   "metadata": {},
   "outputs": [],
   "source": [
    "n = float('nan')"
   ]
  },
  {
   "cell_type": "code",
   "execution_count": 29,
   "metadata": {},
   "outputs": [
    {
     "data": {
      "text/plain": [
       "nan"
      ]
     },
     "execution_count": 29,
     "metadata": {},
     "output_type": "execute_result"
    }
   ],
   "source": [
    "float(n)"
   ]
  },
  {
   "cell_type": "code",
   "execution_count": 30,
   "metadata": {
    "collapsed": true
   },
   "outputs": [],
   "source": [
    "i = float('nan')"
   ]
  },
  {
   "cell_type": "code",
   "execution_count": 32,
   "metadata": {},
   "outputs": [
    {
     "data": {
      "text/plain": [
       "False"
      ]
     },
     "execution_count": 32,
     "metadata": {},
     "output_type": "execute_result"
    }
   ],
   "source": [
    "n == float('nan')"
   ]
  },
  {
   "cell_type": "code",
   "execution_count": null,
   "metadata": {
    "collapsed": true
   },
   "outputs": [],
   "source": []
  }
 ],
 "metadata": {
  "kernelspec": {
   "display_name": "Python 3",
   "language": "python",
   "name": "python3"
  },
  "language_info": {
   "codemirror_mode": {
    "name": "ipython",
    "version": 3
   },
   "file_extension": ".py",
   "mimetype": "text/x-python",
   "name": "python",
   "nbconvert_exporter": "python",
   "pygments_lexer": "ipython3",
   "version": "3.6.1"
  }
 },
 "nbformat": 4,
 "nbformat_minor": 2
}
