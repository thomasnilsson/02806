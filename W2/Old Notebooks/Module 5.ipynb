{
 "cells": [
  {
   "cell_type": "code",
   "execution_count": 25,
   "metadata": {
    "collapsed": true
   },
   "outputs": [],
   "source": [
    "#Temperature Conversion\n",
    "def convertTemperature(T, unitFrom, unitTo):\n",
    "    C = \"Celsius\"\n",
    "    F = \"Fahrenheit\"\n",
    "    K = \"Kelvin\"\n",
    "    \n",
    "    if unitFrom == C: \n",
    "        if unitTo == F:\n",
    "            T = 1.8 * T + 32\n",
    "        elif unitTo == K:\n",
    "            T = T + 273.15\n",
    "            \n",
    "    elif unitFrom == F:\n",
    "        if unitTo == C:\n",
    "            T = (T - 32) / 1.8\n",
    "        elif unitTo == K:\n",
    "            T = (T + 459.67) / 1.8\n",
    "    \n",
    "    elif unitFrom == K:\n",
    "        if unitTo == C:\n",
    "            T = T - 273.15\n",
    "        elif unitTo == F:\n",
    "            T = 1.8 * T - 459.67\n",
    "\n",
    "    return T"
   ]
  },
  {
   "cell_type": "code",
   "execution_count": 26,
   "metadata": {
    "collapsed": false
   },
   "outputs": [
    {
     "data": {
      "text/plain": [
       "176.0"
      ]
     },
     "execution_count": 26,
     "metadata": {},
     "output_type": "execute_result"
    }
   ],
   "source": [
    "convertTemperature(80, \"Celsius\", \"Fahrenheit\")"
   ]
  },
  {
   "cell_type": "code",
   "execution_count": 27,
   "metadata": {
    "collapsed": true
   },
   "outputs": [],
   "source": [
    "#Monte Carlo\n",
    "import numpy as np\n",
    "def circleAreaMC(xvals, yvals):\n",
    "    N = len(xvals)\n",
    "    n = 0\n",
    "    As = 4\n",
    "    for i in range (N):\n",
    "        v = np.array([xvals[i], yvals[i]])\n",
    "        dist = np.dot(v, v)\n",
    "        if dist < 1: n += 1\n",
    "    return As * (n / N)"
   ]
  },
  {
   "cell_type": "code",
   "execution_count": 28,
   "metadata": {
    "collapsed": false
   },
   "outputs": [
    {
     "name": "stdout",
     "output_type": "stream",
     "text": [
      "3.2\n"
     ]
    }
   ],
   "source": [
    "print(circleAreaMC(np.array([-0.1, 0.7, 0.8, 0.5, -0.4]), np.array([0.3, -0.1, 0.9, 0.6, -0.3])))"
   ]
  },
  {
   "cell_type": "code",
   "execution_count": 64,
   "metadata": {
    "collapsed": false
   },
   "outputs": [],
   "source": [
    "#Thermodynamic Simulation\n",
    "import numpy as np\n",
    "def thermoEquilibrium(N, r):\n",
    "    NL = int(N)\n",
    "    NR = 0\n",
    "    t = 0\n",
    "    while NL != NR and t < len(r):\n",
    "        pLR = NL/N\n",
    "        if r[t] <= pLR and NL > 0:\n",
    "            NR += 1\n",
    "            NL -= 1\n",
    "        elif NR > 0:\n",
    "            NR -= 1\n",
    "            NL += 1\n",
    "        t += 1\n",
    "    if (NL != NR): t = 0\n",
    "    return t"
   ]
  },
  {
   "cell_type": "code",
   "execution_count": 65,
   "metadata": {
    "collapsed": false
   },
   "outputs": [
    {
     "name": "stdout",
     "output_type": "stream",
     "text": [
      "14\n"
     ]
    }
   ],
   "source": [
    "print(thermoEquilibrium(12.0, np.array([0.16, 0.04, 0.72, 0.09, 0.17, 0.60, 0.26, 0.65, 0.69,0.74, 0.45, 0.61, 0.23, 0.37, 0.15, 0.83, 0.61, 1.00, 0.08, 0.44])))"
   ]
  },
  {
   "cell_type": "code",
   "execution_count": 66,
   "metadata": {
    "collapsed": false
   },
   "outputs": [
    {
     "name": "stdout",
     "output_type": "stream",
     "text": [
      "0\n"
     ]
    }
   ],
   "source": [
    "print(thermoEquilibrium(50.0, np.array([0.16, 0.04, 0.72, 0.09, 0.17, 0.60, 0.26, 0.65, 0.69, 0.74, 0.45, 0.61, 0.23, 0.37, 0.15, 0.83, 0.61, 1.00, 0.08, 0.44])))"
   ]
  },
  {
   "cell_type": "code",
   "execution_count": null,
   "metadata": {
    "collapsed": true
   },
   "outputs": [],
   "source": []
  }
 ],
 "metadata": {
  "kernelspec": {
   "display_name": "Python 3",
   "language": "python",
   "name": "python3"
  },
  "language_info": {
   "codemirror_mode": {
    "name": "ipython",
    "version": 3
   },
   "file_extension": ".py",
   "mimetype": "text/x-python",
   "name": "python",
   "nbconvert_exporter": "python",
   "pygments_lexer": "ipython3",
   "version": "3.6.0"
  }
 },
 "nbformat": 4,
 "nbformat_minor": 2
}
