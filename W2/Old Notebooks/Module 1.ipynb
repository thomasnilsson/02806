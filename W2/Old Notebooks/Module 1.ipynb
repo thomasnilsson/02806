{
 "cells": [
  {
   "cell_type": "code",
   "execution_count": 3,
   "metadata": {},
   "outputs": [
    {
     "name": "stdout",
     "output_type": "stream",
     "text": [
      "Hello CodeJudge!\n"
     ]
    }
   ],
   "source": [
    "#Hello\n",
    "WhatISay = \"Hello CodeJudge!\"\n",
    "print(WhatISay)"
   ]
  },
  {
   "cell_type": "code",
   "execution_count": 9,
   "metadata": {},
   "outputs": [
    {
     "name": "stdout",
     "output_type": "stream",
     "text": [
      "8.619418339727373\n"
     ]
    }
   ],
   "source": [
    "#Cosine\n",
    "import math\n",
    "b = 12\n",
    "c = 10\n",
    "A = 0.25 * math.pi\n",
    "\n",
    "a = math.sqrt(b**2 + c**2 - (2 * b * c * math.cos(A)))\n",
    "print(a)"
   ]
  },
  {
   "cell_type": "code",
   "execution_count": 18,
   "metadata": {},
   "outputs": [
    {
     "name": "stdout",
     "output_type": "stream",
     "text": [
      "0.5\n",
      "2.0\n"
     ]
    }
   ],
   "source": [
    "#Quadratic Formula\n",
    "import math\n",
    "a = 2\n",
    "b = -5\n",
    "c = 2\n",
    "x1 = (-b - math.sqrt(b**2 - 4 * a * c)) / (2 * a)\n",
    "x2 = (-b + math.sqrt(b**2 - 4 * a * c)) / (2 * a)\n",
    "print(x1)\n",
    "print(x2)"
   ]
  }
 ],
 "metadata": {
  "kernelspec": {
   "display_name": "Python 3",
   "language": "python",
   "name": "python3"
  },
  "language_info": {
   "codemirror_mode": {
    "name": "ipython",
    "version": 3
   },
   "file_extension": ".py",
   "mimetype": "text/x-python",
   "name": "python",
   "nbconvert_exporter": "python",
   "pygments_lexer": "ipython3",
   "version": "3.6.1"
  }
 },
 "nbformat": 4,
 "nbformat_minor": 2
}
