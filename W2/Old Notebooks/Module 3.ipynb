{
 "cells": [
  {
   "cell_type": "code",
   "execution_count": 5,
   "metadata": {
    "collapsed": false
   },
   "outputs": [],
   "source": [
    "#Angle Between Vectors\n",
    "import math\n",
    "import numpy as np\n",
    "def acuteAngle(v1, v2):\n",
    "    dp = np.dot(v1, v2)\n",
    "    theta = math.acos(dp)\n",
    "    if theta > (math.pi / 2):\n",
    "        theta = math.pi - theta\n",
    "    return theta"
   ]
  },
  {
   "cell_type": "code",
   "execution_count": 6,
   "metadata": {
    "collapsed": false
   },
   "outputs": [
    {
     "data": {
      "text/plain": [
       "1.453284681363451"
      ]
     },
     "execution_count": 6,
     "metadata": {},
     "output_type": "execute_result"
    }
   ],
   "source": [
    "a = np.array([-4/5, 3/5])\n",
    "b = np.array([20/29, 21/29])\n",
    "acuteAngle(a, b)"
   ]
  },
  {
   "cell_type": "code",
   "execution_count": 17,
   "metadata": {
    "collapsed": true
   },
   "outputs": [],
   "source": [
    "#Piecewise Function\n",
    "def gravitationalPull(x):\n",
    "    g0 = 9.82\n",
    "    R = 6.371e6\n",
    "    if R <= x:\n",
    "        g = g0 * (R**2 / x**2)\n",
    "    else:\n",
    "        g = g0 * (x / R)\n",
    "    return g"
   ]
  },
  {
   "cell_type": "code",
   "execution_count": 18,
   "metadata": {
    "collapsed": false
   },
   "outputs": [
    {
     "data": {
      "text/plain": [
       "2.7436195259770835"
      ]
     },
     "execution_count": 18,
     "metadata": {},
     "output_type": "execute_result"
    }
   ],
   "source": [
    "#gravitationalPull(1.78 * 10**6)\n",
    "gravitationalPull(1.78e6)"
   ]
  },
  {
   "cell_type": "code",
   "execution_count": 19,
   "metadata": {
    "collapsed": false
   },
   "outputs": [
    {
     "name": "stdout",
     "output_type": "stream",
     "text": [
      "\n"
     ]
    }
   ],
   "source": [
    "#Vector of distances\n",
    "dists = np.arange(0, 10e6, 1e4)\n",
    "gs = list(map(lambda x: gravitationalPull(x), dists))\n",
    "print(\"\")"
   ]
  },
  {
   "cell_type": "code",
   "execution_count": 33,
   "metadata": {
    "collapsed": false
   },
   "outputs": [],
   "source": [
    "#Acidity\n",
    "def pH2Category(pH):\n",
    "    if pH < 0 or pH > 14: category = \"pH out of range\"\n",
    "    elif pH < 3: category = \"Strongly acidic\"\n",
    "    elif pH < 6: category = \"Weakly acidic\"\n",
    "    elif pH <= 8: category = \"Neutral\"\n",
    "    elif pH <= 11: category = \"Weakly basic\"\n",
    "    else: category = \"Strongly basic\"\n",
    "    return category"
   ]
  },
  {
   "cell_type": "code",
   "execution_count": 34,
   "metadata": {
    "collapsed": false
   },
   "outputs": [
    {
     "data": {
      "text/plain": [
       "'pH out of range'"
      ]
     },
     "execution_count": 34,
     "metadata": {},
     "output_type": "execute_result"
    }
   ],
   "source": [
    "pH2Category(17)"
   ]
  },
  {
   "cell_type": "code",
   "execution_count": 42,
   "metadata": {
    "collapsed": true
   },
   "outputs": [],
   "source": [
    "#HawkEye \n",
    "def computePassesGoalLine(p, v):\n",
    "    vx = v[0]\n",
    "    vy = v[1]\n",
    "    x = p[0]\n",
    "    y = p[1]\n",
    "    if vx < 0: xgoal = 0\n",
    "    else: xgoal = 105\n",
    "    a = (xgoal - x) / vx\n",
    "    ygoal = y + (a * vy)\n",
    "    return 30.34 < ygoal and ygoal < 37.66"
   ]
  },
  {
   "cell_type": "code",
   "execution_count": 43,
   "metadata": {
    "collapsed": false
   },
   "outputs": [
    {
     "data": {
      "text/plain": [
       "True"
      ]
     },
     "execution_count": 43,
     "metadata": {},
     "output_type": "execute_result"
    }
   ],
   "source": [
    "tp = np.array([30, 20])\n",
    "tv = np.array([10, 2])\n",
    "computePassesGoalLine(tp, tv)"
   ]
  },
  {
   "cell_type": "code",
   "execution_count": null,
   "metadata": {
    "collapsed": true
   },
   "outputs": [],
   "source": []
  }
 ],
 "metadata": {
  "kernelspec": {
   "display_name": "Python 3",
   "language": "python",
   "name": "python3"
  },
  "language_info": {
   "codemirror_mode": {
    "name": "ipython",
    "version": 3
   },
   "file_extension": ".py",
   "mimetype": "text/x-python",
   "name": "python",
   "nbconvert_exporter": "python",
   "pygments_lexer": "ipython3",
   "version": "3.6.0"
  }
 },
 "nbformat": 4,
 "nbformat_minor": 2
}
