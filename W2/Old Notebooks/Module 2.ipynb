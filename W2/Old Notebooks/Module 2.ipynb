{
 "cells": [
  {
   "cell_type": "code",
   "execution_count": 1,
   "metadata": {
    "collapsed": true
   },
   "outputs": [],
   "source": [
    "#Taylor Series\n",
    "def evaluateTaylor(x):\n",
    "    y = (x - 1) - (1/2) * (x - 1)**2 + (1/3) * (x - 1)**3\n",
    "    return y"
   ]
  },
  {
   "cell_type": "code",
   "execution_count": 3,
   "metadata": {
    "collapsed": false
   },
   "outputs": [
    {
     "data": {
      "text/plain": [
       "0.8333333333333333"
      ]
     },
     "execution_count": 3,
     "metadata": {},
     "output_type": "execute_result"
    }
   ],
   "source": [
    "evaluateTaylor(1)\n",
    "evaluateTaylor(2)"
   ]
  },
  {
   "cell_type": "code",
   "execution_count": 49,
   "metadata": {
    "collapsed": false
   },
   "outputs": [
    {
     "data": {
      "text/plain": [
       "array([ 0.4, -0.2])"
      ]
     },
     "execution_count": 49,
     "metadata": {},
     "output_type": "execute_result"
    }
   ],
   "source": [
    "#Projection\n",
    "import math\n",
    "import numpy as np\n",
    "def computeProjection(a):\n",
    "    a_ = np.linalg.norm(a)\n",
    "    b = np.ones(a.shape) #array of [1, 1,..., 1]\n",
    "    projection = (np.dot(a, b) / a_**2) * a\n",
    "    return projection\n",
    "\n",
    "computeProjection(np.array([2, -1]))"
   ]
  },
  {
   "cell_type": "code",
   "execution_count": 110,
   "metadata": {
    "collapsed": false
   },
   "outputs": [],
   "source": [
    "#Box Area -- Broken version, works with CJ...\n",
    "def boxArea(c, area):\n",
    "    x1 = c[0]\n",
    "    x2 = c[1]\n",
    "    x3 = c[2]\n",
    "    x4 = c[3]\n",
    "    y1 = c[4]\n",
    "    y2 = c[5]\n",
    "    y3 = c[6]\n",
    "    y4 = c[7]\n",
    "    A = -1\n",
    "    if area == \"Box1\":\n",
    "        A = (x2 - x1) * (y2 - y1)\n",
    "    elif area == \"Box2\":\n",
    "        A = (x4 - x3) * (y4 - y3)        \n",
    "    elif area == \"Intersection\":\n",
    "        dx = min(x2, x4) - max(x1, x3)\n",
    "        dy = min(y2, y4) - max(y1, y3)\n",
    "        A = max(0,dx) * max(0, dy)\n",
    "        A = \"\"\n",
    "    elif area == \"Union\":\n",
    "        b1 = boxArea(c, \"Box1\")\n",
    "        b2 = boxArea(c, \"Box2\")\n",
    "        dx = min(x2, x4) - max(x1, x3)\n",
    "        dy = min(y2, y4) - max(y1, y3)\n",
    "        intersection = max(0,dx) * max(0, dy)\n",
    "        A = b1 + b2 - intersection\n",
    "    return A"
   ]
  },
  {
   "cell_type": "code",
   "execution_count": null,
   "metadata": {
    "collapsed": true
   },
   "outputs": [],
   "source": [
    "#Box Area\n",
    "def boxArea(c, area):\n",
    "    x1 = c[0]\n",
    "    x2 = c[1]\n",
    "    x3 = c[2]\n",
    "    x4 = c[3]\n",
    "    y1 = c[4]\n",
    "    y2 = c[5]\n",
    "    y3 = c[6]\n",
    "    y4 = c[7]\n",
    "    A = -1\n",
    "    if area == \"Box1\":\n",
    "        A = (x2 - x1) * (y2 - y1)\n",
    "    elif area == \"Box2\":\n",
    "        A = (x4 - x3) * (y4 - y3)        \n",
    "    elif area == \"Intersection\":\n",
    "        dx = min(x2, x4) - max(x1, x3)\n",
    "        dy = min(y2, y4) - max(y1, y3)\n",
    "        A = max(0,dx) * max(0, dy)\n",
    "    elif area == \"Union\":\n",
    "        b1 = boxArea(c, \"Box1\")\n",
    "        b2 = boxArea(c, \"Box2\")\n",
    "        intersection = boxArea(c, \"Intersection\")\n",
    "        A = b1 + b2 - intersection\n",
    "    return A"
   ]
  },
  {
   "cell_type": "code",
   "execution_count": 116,
   "metadata": {
    "collapsed": false
   },
   "outputs": [
    {
     "name": "stdout",
     "output_type": "stream",
     "text": [
      "30\n"
     ]
    }
   ],
   "source": [
    "print(boxArea(m, \"Intersection\"))"
   ]
  },
  {
   "cell_type": "code",
   "execution_count": 163,
   "metadata": {
    "collapsed": false
   },
   "outputs": [],
   "source": [
    "#Sudoku\n",
    "def fillSudokuRow(row):\n",
    "    nums = [i+1 for i in range(9)]\n",
    "    x = -1\n",
    "    for i in range(9):\n",
    "        if nums[i] not in row:\n",
    "            x = nums[i]\n",
    "    for i in range(1, 9):\n",
    "        if row[i] == 0:\n",
    "            row[i] = x\n",
    "    return row"
   ]
  },
  {
   "cell_type": "code",
   "execution_count": 176,
   "metadata": {
    "collapsed": true
   },
   "outputs": [],
   "source": [
    "#Sudoku (smarter)\n",
    "#Requires NP array as input\n",
    "def fillSudokuRow(row):\n",
    "    s = sum([i+1 for i in range(9)]) #sum = 45\n",
    "    row[row == 0] = s - sum(row) \n",
    "    return row"
   ]
  },
  {
   "cell_type": "code",
   "execution_count": 178,
   "metadata": {
    "collapsed": false
   },
   "outputs": [
    {
     "data": {
      "text/plain": [
       "[6, 2, 3, 4, 5, 0, 7, 8, 9]"
      ]
     },
     "execution_count": 178,
     "metadata": {},
     "output_type": "execute_result"
    }
   ],
   "source": [
    "r = np.array([1, 2, 3, 4, 5, 0, 7, 8, 9])\n",
    "q = [1, 2, 3, 4, 5, 0, 7, 8, 9]\n",
    "fillSudokuRow(q)\n"
   ]
  },
  {
   "cell_type": "code",
   "execution_count": 165,
   "metadata": {
    "collapsed": false
   },
   "outputs": [
    {
     "data": {
      "text/plain": [
       "45"
      ]
     },
     "execution_count": 165,
     "metadata": {},
     "output_type": "execute_result"
    }
   ],
   "source": [
    "sum([i+1 for i in range(9)])"
   ]
  },
  {
   "cell_type": "code",
   "execution_count": null,
   "metadata": {
    "collapsed": true
   },
   "outputs": [],
   "source": []
  }
 ],
 "metadata": {
  "kernelspec": {
   "display_name": "Python 3",
   "language": "python",
   "name": "python3"
  },
  "language_info": {
   "codemirror_mode": {
    "name": "ipython",
    "version": 3
   },
   "file_extension": ".py",
   "mimetype": "text/x-python",
   "name": "python",
   "nbconvert_exporter": "python",
   "pygments_lexer": "ipython3",
   "version": "3.6.0"
  }
 },
 "nbformat": 4,
 "nbformat_minor": 2
}
