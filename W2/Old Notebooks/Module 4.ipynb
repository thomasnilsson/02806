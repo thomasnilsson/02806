{
 "cells": [
  {
   "cell_type": "code",
   "execution_count": 3,
   "metadata": {
    "collapsed": false
   },
   "outputs": [],
   "source": [
    "def fermentationRate(rates, l, u):\n",
    "    valid_rates = list(filter(lambda r: l < r and r < u, rates))\n",
    "    return sum(valid_rates)/len(valid_rates)"
   ]
  },
  {
   "cell_type": "code",
   "execution_count": 4,
   "metadata": {
    "collapsed": false
   },
   "outputs": [
    {
     "name": "stdout",
     "output_type": "stream",
     "text": [
      "19.6\n"
     ]
    }
   ],
   "source": [
    "import numpy as np\n",
    "print(fermentationRate(np.array([20.1, 19.3, 1.1, 18.2, 19.7, 121.1, 20.3, 20.0]), 15, 25))"
   ]
  },
  {
   "cell_type": "code",
   "execution_count": 5,
   "metadata": {
    "collapsed": false
   },
   "outputs": [],
   "source": [
    "#Bacteria Growth\n",
    "def bacteriaGrowth(n0, alpha, K, N):\n",
    "    n = n0\n",
    "    tN = 0\n",
    "    while n < N:\n",
    "        n = (1 + alpha * (1 - n / K)) * n\n",
    "        tN += 1\n",
    "    return tN"
   ]
  },
  {
   "cell_type": "code",
   "execution_count": 6,
   "metadata": {
    "collapsed": false
   },
   "outputs": [
    {
     "name": "stdout",
     "output_type": "stream",
     "text": [
      "7\n"
     ]
    }
   ],
   "source": [
    "v = bacteriaGrowth(100, 0.4, 1000, 500)\n",
    "print(v)"
   ]
  },
  {
   "cell_type": "code",
   "execution_count": 7,
   "metadata": {
    "collapsed": false
   },
   "outputs": [],
   "source": [
    "#Incomplete experiments\n",
    "import numpy as np\n",
    "def removeIncomplete(id_list):\n",
    "    rounded = list(map(lambda x: int(x), id_list))\n",
    "    return list(filter(lambda x: rounded.count(int(x)) > 2, id_list))"
   ]
  },
  {
   "cell_type": "code",
   "execution_count": 8,
   "metadata": {
    "collapsed": false
   },
   "outputs": [],
   "source": [
    "test = np.array([1.3, 2.2, 2.3, 4.2, 5.1, 3.2, 5.3, 3.3, 2.1, 1.1, 5.2, 3.1])\n",
    "lis = removeIncomplete(test)"
   ]
  },
  {
   "cell_type": "code",
   "execution_count": 165,
   "metadata": {
    "collapsed": false
   },
   "outputs": [],
   "source": [
    "def clusterAnalysis(r):\n",
    "    n = len(r)\n",
    "    A = []\n",
    "    B = []\n",
    "    cur_map = [0] * n\n",
    "    prev_map = [-1] * n\n",
    "    \n",
    "    for i in range (n):\n",
    "        x = r[i]\n",
    "        if i % 2 == 0: A.append(x)\n",
    "        else: B.append(x)\n",
    "    while cur_map != prev_map:\n",
    "        prev_map = list(cur_map)\n",
    "        ma = sum(A) / len(A)\n",
    "        mb = sum(B) / len(B)\n",
    "        A = []\n",
    "        B = []\n",
    "        \n",
    "        for i in range (n):\n",
    "            x = r[i]\n",
    "            if abs(x - mb) < abs(x - ma): \n",
    "                B.append(x)\n",
    "                cur_map[i] = 2\n",
    "            else: \n",
    "                A.append(x)\n",
    "                cur_map[i] = 1\n",
    "    return cur_map"
   ]
  },
  {
   "cell_type": "code",
   "execution_count": 167,
   "metadata": {
    "collapsed": false
   },
   "outputs": [
    {
     "data": {
      "text/plain": [
       "[1, 2, 1, 2, 1, 1, 1, 2]"
      ]
     },
     "execution_count": 167,
     "metadata": {},
     "output_type": "execute_result"
    }
   ],
   "source": [
    "m = [10.0, 12.0, 10.0, 12.0, 9.0, 11.0, 11.0, 13.0]\n",
    "clusterAnalysis(m)"
   ]
  },
  {
   "cell_type": "code",
   "execution_count": null,
   "metadata": {
    "collapsed": true
   },
   "outputs": [],
   "source": []
  }
 ],
 "metadata": {
  "kernelspec": {
   "display_name": "Python 3",
   "language": "python",
   "name": "python3"
  },
  "language_info": {
   "codemirror_mode": {
    "name": "ipython",
    "version": 3
   },
   "file_extension": ".py",
   "mimetype": "text/x-python",
   "name": "python",
   "nbconvert_exporter": "python",
   "pygments_lexer": "ipython3",
   "version": "3.6.0"
  }
 },
 "nbformat": 4,
 "nbformat_minor": 2
}
