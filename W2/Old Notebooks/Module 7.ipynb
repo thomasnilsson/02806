{
 "cells": [
  {
   "cell_type": "markdown",
   "metadata": {},
   "source": [
    "## Assignment 7G: The Nato alphabet"
   ]
  },
  {
   "cell_type": "code",
   "execution_count": 43,
   "metadata": {
    "collapsed": true
   },
   "outputs": [],
   "source": [
    "def textToNato(plainText):\n",
    "    alphabet = { \n",
    "        'a' : 'Alpha',\n",
    "        'b' : 'Bravo',\n",
    "        'c' : 'Charlie',\n",
    "        'd' : 'Delta',\n",
    "        'e' : 'Echo',\n",
    "        'f' : 'Foxtrot',\n",
    "        'g' : 'Golf',\n",
    "        'h' : 'Hotel',\n",
    "        'i' : 'India',\n",
    "        'j' : 'Juliet',\n",
    "        'k' : 'Kilo',\n",
    "        'l' : 'Lima',\n",
    "        'm' : 'Mike',\n",
    "        'n' : 'November',\n",
    "        'o' : 'Oscar',\n",
    "        'p' : 'Papa',\n",
    "        'q' : 'Quebec',\n",
    "        'r' : 'Romeo',\n",
    "        's' : 'Sierra',\n",
    "        't' : 'Tango',\n",
    "        'u' : 'Uniform',\n",
    "        'v' : 'Victor',\n",
    "        'w' : 'Whiskey',\n",
    "        'x' : 'Xray',\n",
    "        'y' : 'Yankee',\n",
    "        'z' : 'Zulu'}\n",
    "    plainText = plainText.lower()\n",
    "    nato = \"\"\n",
    "    for c in plainText:\n",
    "        if c in alphabet : nato += alphabet[c] + \"-\"\n",
    "        else: nato = nato[:-1] + c #trims last dash char\n",
    "    return nato[:-1]    "
   ]
  },
  {
   "cell_type": "code",
   "execution_count": 61,
   "metadata": {
    "collapsed": false
   },
   "outputs": [],
   "source": [
    "def textToNato(plainText):\n",
    "    nato = ['Alpha', 'Bravo', 'Charlie', 'Delta', 'Echo', 'Foxtrot', \n",
    "            'Golf', 'Hotel', 'India', 'Juliet', 'Kilo', 'Lima', 'Mike', \n",
    "            'November', 'Oscar', 'Papa', 'Quebec', 'Romeo', 'Sierra', \n",
    "            'Tango', 'Uniform', 'Victor', 'Whiskey', 'Xray', 'Yankee', 'Zulu']\n",
    "    alphabet = 'abcdefghijklmnopqrstuvwxyz'\n",
    "    \n",
    "    plainText = plainText.lower()\n",
    "    result = \"\"\n",
    "    \n",
    "    for c in plainText:\n",
    "        if c in alphabet:\n",
    "            pos = alphabet.index(c)\n",
    "            result += nato[pos] + \"-\"\n",
    "            \n",
    "    if result.endswith('-'): result = result[:-1] # Trim the last '-' before returning. \n",
    "        \n",
    "    return result"
   ]
  },
  {
   "cell_type": "code",
   "execution_count": 62,
   "metadata": {
    "collapsed": false
   },
   "outputs": [
    {
     "data": {
      "text/plain": [
       "'Hotel-Echo-Lima-Lima-Oscar'"
      ]
     },
     "execution_count": 62,
     "metadata": {},
     "output_type": "execute_result"
    }
   ],
   "source": [
    "textToNato(\"hello\")"
   ]
  },
  {
   "cell_type": "code",
   "execution_count": 64,
   "metadata": {
    "collapsed": false
   },
   "outputs": [
    {
     "data": {
      "text/plain": [
       "'Sierra-Tango-Uniform-Victor-Whiskey-Xray-Yankee-Zulu'"
      ]
     },
     "execution_count": 64,
     "metadata": {},
     "output_type": "execute_result"
    }
   ],
   "source": [
    "textToNato(\"stuvwxyz\")"
   ]
  },
  {
   "cell_type": "code",
   "execution_count": 49,
   "metadata": {
    "collapsed": true
   },
   "outputs": [],
   "source": [
    "n = ['Alpha', 'Bravo', 'Charlie', 'Delta', 'Echo', 'Foxtrot', \n",
    "            'Golf', 'Hotel', 'India', 'Juliet', 'Kilo', 'Lima', 'Mike', \n",
    "            'November', 'Oscar', 'Papa', 'Quebec', 'Romeo', 'Sierra', \n",
    "            'Tango''Uniform', 'Victor', 'Whiskey', 'Xray', 'Yankee', 'Zulu']\n",
    "a = 'abcdefghijklmnopqrstuvwxyz'"
   ]
  },
  {
   "cell_type": "code",
   "execution_count": 50,
   "metadata": {
    "collapsed": false
   },
   "outputs": [
    {
     "data": {
      "text/plain": [
       "26"
      ]
     },
     "execution_count": 50,
     "metadata": {},
     "output_type": "execute_result"
    }
   ],
   "source": [
    "len(a)"
   ]
  },
  {
   "cell_type": "code",
   "execution_count": 51,
   "metadata": {
    "collapsed": false
   },
   "outputs": [
    {
     "data": {
      "text/plain": [
       "25"
      ]
     },
     "execution_count": 51,
     "metadata": {},
     "output_type": "execute_result"
    }
   ],
   "source": [
    "a[]"
   ]
  },
  {
   "cell_type": "code",
   "execution_count": null,
   "metadata": {
    "collapsed": true
   },
   "outputs": [],
   "source": []
  }
 ],
 "metadata": {
  "kernelspec": {
   "display_name": "Python 3",
   "language": "python",
   "name": "python3"
  },
  "language_info": {
   "codemirror_mode": {
    "name": "ipython",
    "version": 3
   },
   "file_extension": ".py",
   "mimetype": "text/x-python",
   "name": "python",
   "nbconvert_exporter": "python",
   "pygments_lexer": "ipython3",
   "version": "3.6.0"
  }
 },
 "nbformat": 4,
 "nbformat_minor": 2
}
