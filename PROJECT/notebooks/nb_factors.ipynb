{
 "cells": [
  {
   "cell_type": "code",
   "execution_count": 1,
   "metadata": {},
   "outputs": [
    {
     "data": {
      "text/html": [
       "<div>\n",
       "<style>\n",
       "    .dataframe thead tr:only-child th {\n",
       "        text-align: right;\n",
       "    }\n",
       "\n",
       "    .dataframe thead th {\n",
       "        text-align: left;\n",
       "    }\n",
       "\n",
       "    .dataframe tbody tr th {\n",
       "        vertical-align: top;\n",
       "    }\n",
       "</style>\n",
       "<table border=\"1\" class=\"dataframe\">\n",
       "  <thead>\n",
       "    <tr style=\"text-align: right;\">\n",
       "      <th></th>\n",
       "      <th>DATE</th>\n",
       "      <th>TIME</th>\n",
       "      <th>BOROUGH</th>\n",
       "      <th>ZIP CODE</th>\n",
       "      <th>LATITUDE</th>\n",
       "      <th>LONGITUDE</th>\n",
       "      <th>LOCATION</th>\n",
       "      <th>ON STREET NAME</th>\n",
       "      <th>CROSS STREET NAME</th>\n",
       "      <th>OFF STREET NAME</th>\n",
       "      <th>...</th>\n",
       "      <th>CONTRIBUTING FACTOR VEHICLE 2</th>\n",
       "      <th>CONTRIBUTING FACTOR VEHICLE 3</th>\n",
       "      <th>CONTRIBUTING FACTOR VEHICLE 4</th>\n",
       "      <th>CONTRIBUTING FACTOR VEHICLE 5</th>\n",
       "      <th>UNIQUE KEY</th>\n",
       "      <th>VEHICLE TYPE CODE 1</th>\n",
       "      <th>VEHICLE TYPE CODE 2</th>\n",
       "      <th>VEHICLE TYPE CODE 3</th>\n",
       "      <th>VEHICLE TYPE CODE 4</th>\n",
       "      <th>VEHICLE TYPE CODE 5</th>\n",
       "    </tr>\n",
       "  </thead>\n",
       "  <tbody>\n",
       "    <tr>\n",
       "      <th>0</th>\n",
       "      <td>04/03/2018</td>\n",
       "      <td>0:00</td>\n",
       "      <td>MANHATTAN</td>\n",
       "      <td>10018</td>\n",
       "      <td>40.756490</td>\n",
       "      <td>-73.997765</td>\n",
       "      <td>(40.75649, -73.997765)</td>\n",
       "      <td>WEST 37 STREET</td>\n",
       "      <td>10 AVENUE</td>\n",
       "      <td>NaN</td>\n",
       "      <td>...</td>\n",
       "      <td>NaN</td>\n",
       "      <td>NaN</td>\n",
       "      <td>NaN</td>\n",
       "      <td>NaN</td>\n",
       "      <td>3875635</td>\n",
       "      <td>VN</td>\n",
       "      <td>NaN</td>\n",
       "      <td>NaN</td>\n",
       "      <td>NaN</td>\n",
       "      <td>NaN</td>\n",
       "    </tr>\n",
       "    <tr>\n",
       "      <th>1</th>\n",
       "      <td>04/03/2018</td>\n",
       "      <td>0:00</td>\n",
       "      <td>MANHATTAN</td>\n",
       "      <td>10027</td>\n",
       "      <td>40.814580</td>\n",
       "      <td>-73.947950</td>\n",
       "      <td>(40.81458, -73.94795)</td>\n",
       "      <td>8 AVENUE</td>\n",
       "      <td>WEST 132 STREET</td>\n",
       "      <td>NaN</td>\n",
       "      <td>...</td>\n",
       "      <td>Driver Inattention/Distraction</td>\n",
       "      <td>NaN</td>\n",
       "      <td>NaN</td>\n",
       "      <td>NaN</td>\n",
       "      <td>3874492</td>\n",
       "      <td>TAXI</td>\n",
       "      <td>PASSENGER VEHICLE</td>\n",
       "      <td>NaN</td>\n",
       "      <td>NaN</td>\n",
       "      <td>NaN</td>\n",
       "    </tr>\n",
       "    <tr>\n",
       "      <th>2</th>\n",
       "      <td>04/03/2018</td>\n",
       "      <td>0:00</td>\n",
       "      <td>STATEN ISLAND</td>\n",
       "      <td>10312</td>\n",
       "      <td>40.564040</td>\n",
       "      <td>-74.187280</td>\n",
       "      <td>(40.56404, -74.18728)</td>\n",
       "      <td>ILYSSA WAY</td>\n",
       "      <td>ARTHUR KILL ROAD</td>\n",
       "      <td>NaN</td>\n",
       "      <td>...</td>\n",
       "      <td>NaN</td>\n",
       "      <td>NaN</td>\n",
       "      <td>NaN</td>\n",
       "      <td>NaN</td>\n",
       "      <td>3875216</td>\n",
       "      <td>PASSENGER VEHICLE</td>\n",
       "      <td>NaN</td>\n",
       "      <td>NaN</td>\n",
       "      <td>NaN</td>\n",
       "      <td>NaN</td>\n",
       "    </tr>\n",
       "    <tr>\n",
       "      <th>3</th>\n",
       "      <td>04/03/2018</td>\n",
       "      <td>0:00</td>\n",
       "      <td>NaN</td>\n",
       "      <td>NaN</td>\n",
       "      <td>40.562866</td>\n",
       "      <td>-74.187100</td>\n",
       "      <td>(40.562866, -74.1871)</td>\n",
       "      <td>FEATHERBED LANE</td>\n",
       "      <td>MACOMBS ROAD</td>\n",
       "      <td>NaN</td>\n",
       "      <td>...</td>\n",
       "      <td>Unspecified</td>\n",
       "      <td>NaN</td>\n",
       "      <td>NaN</td>\n",
       "      <td>NaN</td>\n",
       "      <td>3875387</td>\n",
       "      <td>SPORT UTILITY / STATION WAGON</td>\n",
       "      <td>SPORT UTILITY / STATION WAGON</td>\n",
       "      <td>NaN</td>\n",
       "      <td>NaN</td>\n",
       "      <td>NaN</td>\n",
       "    </tr>\n",
       "    <tr>\n",
       "      <th>4</th>\n",
       "      <td>04/03/2018</td>\n",
       "      <td>0:00</td>\n",
       "      <td>NaN</td>\n",
       "      <td>NaN</td>\n",
       "      <td>NaN</td>\n",
       "      <td>NaN</td>\n",
       "      <td>NaN</td>\n",
       "      <td>FLATBUSH AVENUE</td>\n",
       "      <td>GRAND ARMY PLAZA</td>\n",
       "      <td>NaN</td>\n",
       "      <td>...</td>\n",
       "      <td>Passing or Lane Usage Improper</td>\n",
       "      <td>NaN</td>\n",
       "      <td>NaN</td>\n",
       "      <td>NaN</td>\n",
       "      <td>3874140</td>\n",
       "      <td>PICK-UP TRUCK</td>\n",
       "      <td>PASSENGER VEHICLE</td>\n",
       "      <td>NaN</td>\n",
       "      <td>NaN</td>\n",
       "      <td>NaN</td>\n",
       "    </tr>\n",
       "  </tbody>\n",
       "</table>\n",
       "<p>5 rows × 29 columns</p>\n",
       "</div>"
      ],
      "text/plain": [
       "         DATE  TIME        BOROUGH ZIP CODE   LATITUDE  LONGITUDE  \\\n",
       "0  04/03/2018  0:00      MANHATTAN    10018  40.756490 -73.997765   \n",
       "1  04/03/2018  0:00      MANHATTAN    10027  40.814580 -73.947950   \n",
       "2  04/03/2018  0:00  STATEN ISLAND    10312  40.564040 -74.187280   \n",
       "3  04/03/2018  0:00            NaN      NaN  40.562866 -74.187100   \n",
       "4  04/03/2018  0:00            NaN      NaN        NaN        NaN   \n",
       "\n",
       "                 LOCATION                    ON STREET NAME CROSS STREET NAME  \\\n",
       "0  (40.75649, -73.997765)  WEST 37 STREET                           10 AVENUE   \n",
       "1   (40.81458, -73.94795)  8 AVENUE                           WEST 132 STREET   \n",
       "2   (40.56404, -74.18728)  ILYSSA WAY                        ARTHUR KILL ROAD   \n",
       "3   (40.562866, -74.1871)  FEATHERBED LANE                       MACOMBS ROAD   \n",
       "4                     NaN  FLATBUSH AVENUE                   GRAND ARMY PLAZA   \n",
       "\n",
       "  OFF STREET NAME         ...           CONTRIBUTING FACTOR VEHICLE 2  \\\n",
       "0             NaN         ...                                     NaN   \n",
       "1             NaN         ...          Driver Inattention/Distraction   \n",
       "2             NaN         ...                                     NaN   \n",
       "3             NaN         ...                             Unspecified   \n",
       "4             NaN         ...          Passing or Lane Usage Improper   \n",
       "\n",
       "   CONTRIBUTING FACTOR VEHICLE 3  CONTRIBUTING FACTOR VEHICLE 4  \\\n",
       "0                            NaN                            NaN   \n",
       "1                            NaN                            NaN   \n",
       "2                            NaN                            NaN   \n",
       "3                            NaN                            NaN   \n",
       "4                            NaN                            NaN   \n",
       "\n",
       "   CONTRIBUTING FACTOR VEHICLE 5  UNIQUE KEY            VEHICLE TYPE CODE 1  \\\n",
       "0                            NaN     3875635                             VN   \n",
       "1                            NaN     3874492                           TAXI   \n",
       "2                            NaN     3875216              PASSENGER VEHICLE   \n",
       "3                            NaN     3875387  SPORT UTILITY / STATION WAGON   \n",
       "4                            NaN     3874140                  PICK-UP TRUCK   \n",
       "\n",
       "             VEHICLE TYPE CODE 2  VEHICLE TYPE CODE 3 VEHICLE TYPE CODE 4  \\\n",
       "0                            NaN                  NaN                 NaN   \n",
       "1              PASSENGER VEHICLE                  NaN                 NaN   \n",
       "2                            NaN                  NaN                 NaN   \n",
       "3  SPORT UTILITY / STATION WAGON                  NaN                 NaN   \n",
       "4              PASSENGER VEHICLE                  NaN                 NaN   \n",
       "\n",
       "  VEHICLE TYPE CODE 5  \n",
       "0                 NaN  \n",
       "1                 NaN  \n",
       "2                 NaN  \n",
       "3                 NaN  \n",
       "4                 NaN  \n",
       "\n",
       "[5 rows x 29 columns]"
      ]
     },
     "execution_count": 1,
     "metadata": {},
     "output_type": "execute_result"
    }
   ],
   "source": [
    "import pandas as pd\n",
    "df = pd.read_csv(\"NYPD_Motor_Vehicle_Collisions.csv\", dtype={'ZIP CODE': str})\n",
    "df.head()"
   ]
  },
  {
   "cell_type": "code",
   "execution_count": 2,
   "metadata": {},
   "outputs": [],
   "source": [
    "#Rename columns: lower case and replace spaces with underscore\n",
    "df.columns = df.columns.str.lower().str.replace(' ', '_')\n",
    "df = df.dropna(subset=['zip_code'])\n",
    "df = df[df.zip_code != '     ']\n",
    "df['hour'] = df.time.str[0:-3]\n",
    "df['ym'] = df.date.str[0:3] + \"01\" + df.date.str[5:10]"
   ]
  },
  {
   "cell_type": "code",
   "execution_count": 45,
   "metadata": {},
   "outputs": [],
   "source": [
    "data = df[[\"ym\", \"contributing_factor_vehicle_1\", \"contributing_factor_vehicle_2\", \"contributing_factor_vehicle_3\", \"contributing_factor_vehicle_4\", \"contributing_factor_vehicle_5\"]]"
   ]
  },
  {
   "cell_type": "code",
   "execution_count": 51,
   "metadata": {},
   "outputs": [],
   "source": [
    "data = data.set_index(\"ym\")"
   ]
  },
  {
   "cell_type": "code",
   "execution_count": 53,
   "metadata": {},
   "outputs": [],
   "source": [
    "test = data.stack()"
   ]
  },
  {
   "cell_type": "code",
   "execution_count": 63,
   "metadata": {},
   "outputs": [
    {
     "data": {
      "text/plain": [
       "                               ym        \n",
       "contributing_factor_vehicle_1  04/01/2018                       Unspecified\n",
       "                               04/01/2018    Driver Inattention/Distraction\n",
       "                               04/01/2018                       Unspecified\n",
       "                               04/01/2018    Passing or Lane Usage Improper\n",
       "                               04/01/2018           View Obstructed/Limited\n",
       "                               04/01/2018                       Unspecified\n",
       "                               04/01/2018                       Unspecified\n",
       "                               04/01/2018     Failure to Yield Right-of-Way\n",
       "                               04/01/2018                       Unspecified\n",
       "                               04/01/2018                       Unspecified\n",
       "                               04/01/2018             Following Too Closely\n",
       "                               04/01/2018                  Backing Unsafely\n",
       "                               04/01/2018    Passing or Lane Usage Improper\n",
       "                               04/01/2018                       Unspecified\n",
       "                               04/01/2018     Failure to Yield Right-of-Way\n",
       "                               04/01/2018                   Other Vehicular\n",
       "                               04/01/2018                   Other Vehicular\n",
       "                               04/01/2018                       Unspecified\n",
       "                               04/01/2018                       Unspecified\n",
       "                               04/01/2018                               NaN\n",
       "                               04/01/2018                       Unspecified\n",
       "                               04/01/2018    Passing or Lane Usage Improper\n",
       "                               04/01/2018    Driver Inattention/Distraction\n",
       "                               04/01/2018                       Unspecified\n",
       "                               04/01/2018    Driver Inattention/Distraction\n",
       "                               04/01/2018    Driver Inattention/Distraction\n",
       "                               04/01/2018                       Unspecified\n",
       "                               04/01/2018                Turning Improperly\n",
       "                               04/01/2018           View Obstructed/Limited\n",
       "                               04/01/2018     Failure to Yield Right-of-Way\n",
       "                                                          ...              \n",
       "contributing_factor_vehicle_5  07/01/2012                               NaN\n",
       "                               07/01/2012                               NaN\n",
       "                               07/01/2012                               NaN\n",
       "                               07/01/2012                               NaN\n",
       "                               07/01/2012                               NaN\n",
       "                               07/01/2012                               NaN\n",
       "                               07/01/2012                               NaN\n",
       "                               07/01/2012                               NaN\n",
       "                               07/01/2012                               NaN\n",
       "                               07/01/2012                               NaN\n",
       "                               07/01/2012                               NaN\n",
       "                               07/01/2012                               NaN\n",
       "                               07/01/2012                               NaN\n",
       "                               07/01/2012                               NaN\n",
       "                               07/01/2012                               NaN\n",
       "                               07/01/2012                               NaN\n",
       "                               07/01/2012                               NaN\n",
       "                               07/01/2012                               NaN\n",
       "                               07/01/2012                               NaN\n",
       "                               07/01/2012                               NaN\n",
       "                               07/01/2012                               NaN\n",
       "                               07/01/2012                               NaN\n",
       "                               07/01/2012                               NaN\n",
       "                               07/01/2012                               NaN\n",
       "                               07/01/2012                               NaN\n",
       "                               07/01/2012                               NaN\n",
       "                               07/01/2012                               NaN\n",
       "                               07/01/2012                               NaN\n",
       "                               07/01/2012                               NaN\n",
       "                               07/01/2012                               NaN\n",
       "Length: 4422020, dtype: object"
      ]
     },
     "execution_count": 63,
     "metadata": {},
     "output_type": "execute_result"
    }
   ],
   "source": [
    "data.unstack()"
   ]
  },
  {
   "cell_type": "code",
   "execution_count": 16,
   "metadata": {},
   "outputs": [
    {
     "data": {
      "text/plain": [
       "4422020"
      ]
     },
     "execution_count": 16,
     "metadata": {},
     "output_type": "execute_result"
    }
   ],
   "source": [
    "all_factors = list(df.contributing_factor_vehicle_1) + list(df.contributing_factor_vehicle_2) + list(df.contributing_factor_vehicle_3) + list(df.contributing_factor_vehicle_4) + list(df.contributing_factor_vehicle_5)\n",
    "len(all_factors)"
   ]
  },
  {
   "cell_type": "code",
   "execution_count": 36,
   "metadata": {},
   "outputs": [],
   "source": [
    "categories = dict()\n",
    "categories[\"distraction\"] = [\"Other Electronic Devicev\", \"Passenger Distraction\", \"Driver Inattention/Distraction\", \"Outside Car Distraction\"]\n",
    "categories[\"bad_driving\"] = [\"Failure to Keep Right\", \"Aggressive Driving/Road Rage\", \"Unsafe Speed\", \"Unsafe Lane Changing\", \"Failure to Yield Right-of-Way\", \"Backing Unsafely\", \"Turning Improperly\", \"Following Too Closely\", \"Driver Inexperience\", \"Traffic Control Disregarded\", \"Passing or Lane Usage Improper\"]\n",
    "categories[\"ailments\"] = [\"Fell Asleep\", \"Illness\", \"Physical Disability\", \"Prescription Medication\", \"Fatigued/Drowsy\", \"Lost Consciousness\", ]\n",
    "categories[\"outside_influence\"] = [\"Lane Marking Improper/Inadequate\", \"Pavement Defective\", \"Traffic Control Device Improper/Non-Working\", \"View Obstructed/Limited\", \"Glare\", \"Obstruction/Debris\", \"Animals Action\",  \"Pedestrian/Bicyclist/Other Pedestrian Error/Confusion\", \"Reaction to Other Uninvolved Vehicle\",]\n",
    "categories[\"car_defects\"] = [\"Accelerator Defective\", \"Tire Failure/Inadequate\", \"Steering Failure\", \"Brakes Defective\", \"Oversized Vehicle\", \"Other Vehicular\"]\n",
    "categories[\"under_influence\"] = [\"Drugs (Illegal)\", \"Alcohol Involvement\"]"
   ]
  },
  {
   "cell_type": "code",
   "execution_count": 32,
   "metadata": {},
   "outputs": [],
   "source": [
    "from collections import Counter\n",
    "counts = Counter(all_factors)\n",
    "common = counts.most_common()"
   ]
  },
  {
   "cell_type": "code",
   "execution_count": 41,
   "metadata": {},
   "outputs": [
    {
     "ename": "AttributeError",
     "evalue": "'dict' object has no attribute 'key'",
     "output_type": "error",
     "traceback": [
      "\u001b[0;31m---------------------------------------------------------------------------\u001b[0m",
      "\u001b[0;31mAttributeError\u001b[0m                            Traceback (most recent call last)",
      "\u001b[0;32m<ipython-input-41-a429a9cbd809>\u001b[0m in \u001b[0;36m<module>\u001b[0;34m()\u001b[0m\n\u001b[1;32m      1\u001b[0m \u001b[0;32mfor\u001b[0m \u001b[0mkey\u001b[0m \u001b[0;32min\u001b[0m \u001b[0mcategories\u001b[0m\u001b[0;34m:\u001b[0m\u001b[0;34m\u001b[0m\u001b[0m\n\u001b[0;32m----> 2\u001b[0;31m     \u001b[0mprint\u001b[0m\u001b[0;34m(\u001b[0m\u001b[0mcategories\u001b[0m\u001b[0;34m.\u001b[0m\u001b[0mkey\u001b[0m\u001b[0;34m)\u001b[0m\u001b[0;34m\u001b[0m\u001b[0m\n\u001b[0m",
      "\u001b[0;31mAttributeError\u001b[0m: 'dict' object has no attribute 'key'"
     ]
    }
   ],
   "source": []
  },
  {
   "cell_type": "code",
   "execution_count": 42,
   "metadata": {},
   "outputs": [],
   "source": [
    "newCommon = dict()\n",
    "for key in categories:\n",
    "    newCommon[key] = 0\n",
    "\n",
    "for c in common:\n",
    "    index = c[0]\n",
    "    count = c[1]\n",
    "    for key in categories:\n",
    "        if index in categories[key]:\n",
    "            newCommon[key] += count"
   ]
  },
  {
   "cell_type": "code",
   "execution_count": 43,
   "metadata": {},
   "outputs": [
    {
     "data": {
      "text/plain": [
       "{'ailments': 85409,\n",
       " 'bad_driving': 192014,\n",
       " 'car_defects': 56605,\n",
       " 'distraction': 176373,\n",
       " 'outside_influence': 18424,\n",
       " 'under_influence': 9092}"
      ]
     },
     "execution_count": 43,
     "metadata": {},
     "output_type": "execute_result"
    }
   ],
   "source": [
    "newCommon"
   ]
  },
  {
   "cell_type": "code",
   "execution_count": 17,
   "metadata": {},
   "outputs": [],
   "source": [
    "unique_factors = set(all_factors)"
   ]
  },
  {
   "cell_type": "code",
   "execution_count": null,
   "metadata": {},
   "outputs": [],
   "source": []
  },
  {
   "cell_type": "code",
   "execution_count": 52,
   "metadata": {},
   "outputs": [],
   "source": [
    "data = df[[\"ym\", \"hour\"]]"
   ]
  },
  {
   "cell_type": "code",
   "execution_count": 53,
   "metadata": {},
   "outputs": [
    {
     "name": "stderr",
     "output_type": "stream",
     "text": [
      "/Users/thomasnilsson/anaconda/lib/python3.6/site-packages/ipykernel_launcher.py:1: SettingWithCopyWarning: \n",
      "A value is trying to be set on a copy of a slice from a DataFrame.\n",
      "Try using .loc[row_indexer,col_indexer] = value instead\n",
      "\n",
      "See the caveats in the documentation: http://pandas.pydata.org/pandas-docs/stable/indexing.html#indexing-view-versus-copy\n",
      "  \"\"\"Entry point for launching an IPython kernel.\n"
     ]
    }
   ],
   "source": [
    "data[\"count\"] = 1"
   ]
  },
  {
   "cell_type": "code",
   "execution_count": 55,
   "metadata": {},
   "outputs": [],
   "source": [
    "g1 = data.groupby([\"hour\", \"ym\"]).count()"
   ]
  },
  {
   "cell_type": "code",
   "execution_count": 57,
   "metadata": {},
   "outputs": [
    {
     "data": {
      "text/html": [
       "<div>\n",
       "<style>\n",
       "    .dataframe thead tr:only-child th {\n",
       "        text-align: right;\n",
       "    }\n",
       "\n",
       "    .dataframe thead th {\n",
       "        text-align: left;\n",
       "    }\n",
       "\n",
       "    .dataframe tbody tr th {\n",
       "        vertical-align: top;\n",
       "    }\n",
       "</style>\n",
       "<table border=\"1\" class=\"dataframe\">\n",
       "  <thead>\n",
       "    <tr style=\"text-align: right;\">\n",
       "      <th></th>\n",
       "      <th></th>\n",
       "      <th>count</th>\n",
       "    </tr>\n",
       "    <tr>\n",
       "      <th>hour</th>\n",
       "      <th>ym</th>\n",
       "      <th></th>\n",
       "    </tr>\n",
       "  </thead>\n",
       "  <tbody>\n",
       "    <tr>\n",
       "      <th rowspan=\"5\" valign=\"top\">0</th>\n",
       "      <th>01/01/2013</th>\n",
       "      <td>249</td>\n",
       "    </tr>\n",
       "    <tr>\n",
       "      <th>01/01/2014</th>\n",
       "      <td>237</td>\n",
       "    </tr>\n",
       "    <tr>\n",
       "      <th>01/01/2015</th>\n",
       "      <td>243</td>\n",
       "    </tr>\n",
       "    <tr>\n",
       "      <th>01/01/2016</th>\n",
       "      <td>292</td>\n",
       "    </tr>\n",
       "    <tr>\n",
       "      <th>01/01/2017</th>\n",
       "      <td>343</td>\n",
       "    </tr>\n",
       "  </tbody>\n",
       "</table>\n",
       "</div>"
      ],
      "text/plain": [
       "                 count\n",
       "hour ym               \n",
       "0    01/01/2013    249\n",
       "     01/01/2014    237\n",
       "     01/01/2015    243\n",
       "     01/01/2016    292\n",
       "     01/01/2017    343"
      ]
     },
     "execution_count": 57,
     "metadata": {},
     "output_type": "execute_result"
    }
   ],
   "source": [
    "g1.head()"
   ]
  },
  {
   "cell_type": "code",
   "execution_count": 58,
   "metadata": {},
   "outputs": [],
   "source": [
    "g1.to_csv(\"hist_incident_count.csv\")"
   ]
  },
  {
   "cell_type": "code",
   "execution_count": 30,
   "metadata": {},
   "outputs": [],
   "source": [
    "data.to_csv(\"individual_incidents.csv\", index=False)"
   ]
  },
  {
   "cell_type": "code",
   "execution_count": 16,
   "metadata": {},
   "outputs": [
    {
     "data": {
      "text/html": [
       "<div>\n",
       "<style>\n",
       "    .dataframe thead tr:only-child th {\n",
       "        text-align: right;\n",
       "    }\n",
       "\n",
       "    .dataframe thead th {\n",
       "        text-align: left;\n",
       "    }\n",
       "\n",
       "    .dataframe tbody tr th {\n",
       "        vertical-align: top;\n",
       "    }\n",
       "</style>\n",
       "<table border=\"1\" class=\"dataframe\">\n",
       "  <thead>\n",
       "    <tr style=\"text-align: right;\">\n",
       "      <th></th>\n",
       "      <th>date</th>\n",
       "      <th>hour</th>\n",
       "      <th>zip_code</th>\n",
       "    </tr>\n",
       "  </thead>\n",
       "  <tbody>\n",
       "    <tr>\n",
       "      <th>0</th>\n",
       "      <td>04/03/2018</td>\n",
       "      <td>0</td>\n",
       "      <td>10018</td>\n",
       "    </tr>\n",
       "    <tr>\n",
       "      <th>1</th>\n",
       "      <td>04/03/2018</td>\n",
       "      <td>0</td>\n",
       "      <td>10027</td>\n",
       "    </tr>\n",
       "    <tr>\n",
       "      <th>2</th>\n",
       "      <td>04/03/2018</td>\n",
       "      <td>0</td>\n",
       "      <td>10312</td>\n",
       "    </tr>\n",
       "    <tr>\n",
       "      <th>6</th>\n",
       "      <td>04/03/2018</td>\n",
       "      <td>0</td>\n",
       "      <td>11370</td>\n",
       "    </tr>\n",
       "    <tr>\n",
       "      <th>7</th>\n",
       "      <td>04/03/2018</td>\n",
       "      <td>0</td>\n",
       "      <td>11212</td>\n",
       "    </tr>\n",
       "  </tbody>\n",
       "</table>\n",
       "</div>"
      ],
      "text/plain": [
       "         date hour zip_code\n",
       "0  04/03/2018    0    10018\n",
       "1  04/03/2018    0    10027\n",
       "2  04/03/2018    0    10312\n",
       "6  04/03/2018    0    11370\n",
       "7  04/03/2018    0    11212"
      ]
     },
     "execution_count": 16,
     "metadata": {},
     "output_type": "execute_result"
    }
   ],
   "source": [
    "data.head()"
   ]
  },
  {
   "cell_type": "code",
   "execution_count": 26,
   "metadata": {},
   "outputs": [
    {
     "data": {
      "text/plain": [
       "884404"
      ]
     },
     "execution_count": 26,
     "metadata": {},
     "output_type": "execute_result"
    }
   ],
   "source": [
    "len(data)"
   ]
  },
  {
   "cell_type": "code",
   "execution_count": null,
   "metadata": {},
   "outputs": [],
   "source": []
  }
 ],
 "metadata": {
  "kernelspec": {
   "display_name": "Python 3",
   "language": "python",
   "name": "python3"
  },
  "language_info": {
   "codemirror_mode": {
    "name": "ipython",
    "version": 3
   },
   "file_extension": ".py",
   "mimetype": "text/x-python",
   "name": "python",
   "nbconvert_exporter": "python",
   "pygments_lexer": "ipython3",
   "version": "3.6.1"
  }
 },
 "nbformat": 4,
 "nbformat_minor": 2
}
