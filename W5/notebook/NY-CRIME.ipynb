{
 "cells": [
  {
   "cell_type": "code",
   "execution_count": 2,
   "metadata": {},
   "outputs": [],
   "source": [
    "import pandas as pd\n",
    "from collections import Counter"
   ]
  },
  {
   "cell_type": "markdown",
   "metadata": {},
   "source": [
    "Get number of crimes in each of the five boroughs"
   ]
  },
  {
   "cell_type": "code",
   "execution_count": 3,
   "metadata": {
    "collapsed": true
   },
   "outputs": [
    {
     "name": "stderr",
     "output_type": "stream",
     "text": [
      "/Users/thomasnilsson/anaconda/lib/python3.6/site-packages/IPython/core/interactiveshell.py:2717: DtypeWarning: Columns (17,23) have mixed types. Specify dtype option on import or set low_memory=False.\n",
      "  interactivity=interactivity, compiler=compiler, result=result)\n"
     ]
    }
   ],
   "source": [
    "df = pd.read_csv(\"full_nyc.csv\")"
   ]
  },
  {
   "cell_type": "code",
   "execution_count": 4,
   "metadata": {
    "collapsed": true
   },
   "outputs": [],
   "source": [
    "dist = df.BORO_NM.value_counts()"
   ]
  },
  {
   "cell_type": "code",
   "execution_count": 5,
   "metadata": {
    "collapsed": true
   },
   "outputs": [],
   "source": [
    "N = df.BORO_NM.count()"
   ]
  },
  {
   "cell_type": "code",
   "execution_count": 6,
   "metadata": {
    "collapsed": true
   },
   "outputs": [],
   "source": [
    "frac = dist/N"
   ]
  },
  {
   "cell_type": "code",
   "execution_count": 7,
   "metadata": {
    "scrolled": true
   },
   "outputs": [
    {
     "data": {
      "text/plain": [
       "BROOKLYN         0.298751\n",
       "MANHATTAN        0.238685\n",
       "BRONX            0.216799\n",
       "QUEENS           0.198155\n",
       "STATEN ISLAND    0.047610\n",
       "Name: BORO_NM, dtype: float64"
      ]
     },
     "execution_count": 7,
     "metadata": {},
     "output_type": "execute_result"
    }
   ],
   "source": [
    "frac"
   ]
  },
  {
   "cell_type": "code",
   "execution_count": 8,
   "metadata": {},
   "outputs": [],
   "source": [
    "filtered = df[(df['CMPLNT_FR_DT'].str.contains(\"2016\", na=False)) & (df['BORO_NM'] == 'MANHATTAN')]"
   ]
  },
  {
   "cell_type": "code",
   "execution_count": 9,
   "metadata": {},
   "outputs": [],
   "source": [
    "crimes = list(filtered.PD_DESC)"
   ]
  },
  {
   "cell_type": "code",
   "execution_count": 18,
   "metadata": {
    "scrolled": true
   },
   "outputs": [],
   "source": [
    "manhattanCrimes = []\n",
    "unwantedChars = [\"1\",\"2\",\"3\",\"4\",\"5\",\"6\",\"7\",\"8\",\"9\", \"&\"]\n",
    "for word in crimes:\n",
    "    crime = str(word).split(\",\")[0]\n",
    "    wantedCharacters = [char for char in crime if char not in unwantedChars]\n",
    "    category = ''.join(wantedCharacters)\n",
    "    category = category.strip() # Remove leading/trailing whitespace\n",
    "    manhattanCrimes.append(category)"
   ]
  },
  {
   "cell_type": "code",
   "execution_count": 44,
   "metadata": {},
   "outputs": [],
   "source": [
    "counts = Counter(manhattanCrimes)"
   ]
  },
  {
   "cell_type": "code",
   "execution_count": 54,
   "metadata": {},
   "outputs": [
    {
     "data": {
      "text/plain": [
       "[('LARCENY', 40723),\n",
       " ('HARASSMENT', 13002),\n",
       " ('ASSAULT', 12167),\n",
       " ('AGGRAVATED HARASSMENT', 4113),\n",
       " ('MARIJUANA', 3758),\n",
       " ('MISCHIEF', 3428)]"
      ]
     },
     "execution_count": 54,
     "metadata": {},
     "output_type": "execute_result"
    }
   ],
   "source": [
    "counts.most_common(6)"
   ]
  },
  {
   "cell_type": "code",
   "execution_count": 123,
   "metadata": {},
   "outputs": [],
   "source": [
    "def searchDF(word):\n",
    "    return Counter(filtered[filtered['PD_DESC'].str.contains(word, na=False)].CMPLNT_FR_DT)"
   ]
  },
  {
   "cell_type": "code",
   "execution_count": 136,
   "metadata": {},
   "outputs": [],
   "source": [
    "topFive = ['LARCENY', 'HARASSMENT', 'ASSAULT', 'MARIJUANA', 'MISCHIEF']\n",
    "crimeDateCounts = dict()\n",
    "crimeMonths = dict()\n",
    "for category in topFive:\n",
    "    crimeDateCounts[category] = searchDF(category)\n",
    "    crimeMonths[category] = [0] * 12"
   ]
  },
  {
   "cell_type": "code",
   "execution_count": 135,
   "metadata": {},
   "outputs": [
    {
     "data": {
      "text/plain": [
       "{'ASSAULT': [0, 0, 0, 0, 0, 0, 0, 0, 0, 0, 0, 0],\n",
       " 'HARASSMENT': [0, 0, 0, 0, 0, 0, 0, 0, 0, 0, 0, 0],\n",
       " 'LARCENY': [0, 0, 0, 0, 0, 0, 0, 0, 0, 0, 0, 0],\n",
       " 'MARIJUANA': [0, 0, 0, 0, 0, 0, 0, 0, 0, 0, 0, 0],\n",
       " 'MISCHIEF': [0, 0, 0, 0, 0, 0, 0, 0, 0, 0, 0, 0]}"
      ]
     },
     "execution_count": 135,
     "metadata": {},
     "output_type": "execute_result"
    }
   ],
   "source": [
    "crimeMonths"
   ]
  },
  {
   "cell_type": "code",
   "execution_count": 137,
   "metadata": {},
   "outputs": [],
   "source": [
    "for crimeKey in crimeDateCounts:\n",
    "    categoryCounts = crimeDateCounts[crimeKey]\n",
    "    months = crimeMonths[crimeKey]\n",
    "    for key in categoryCounts:\n",
    "        monthIndex = int(key[0:2]) - 1\n",
    "        months[monthIndex] += categoryCounts[key]"
   ]
  },
  {
   "cell_type": "code",
   "execution_count": 165,
   "metadata": {},
   "outputs": [
    {
     "name": "stdout",
     "output_type": "stream",
     "text": [
      "date,LARCENY,HARASSMENT,ASSAULT,MARIJUANA,MISCHIEF\n",
      "2016-01,3273,1372,939,270,785\n",
      "2016-02,2850,1227,790,262,700\n",
      "2016-03,3441,1457,1021,318,762\n",
      "2016-04,3325,1448,1040,273,1011\n",
      "2016-05,3423,1535,1096,376,767\n",
      "2016-06,3639,1556,1079,384,908\n",
      "2016-07,3646,1451,1147,325,797\n",
      "2016-08,3857,1587,1115,353,959\n",
      "2016-09,3406,1473,1010,332,688\n",
      "2016-10,3461,1464,1101,340,784\n",
      "2016-11,3249,1318,929,278,585\n",
      "2016-12,3222,1227,905,250,578\n"
     ]
    }
   ],
   "source": [
    "s = str(topFive).replace('\\'', '').replace('[', '').replace(']', '').replace(' ','')\n",
    "print('date,' + s)\n",
    "for i in range(12):\n",
    "    s2 = '2016-' + str(i+1).zfill(2) + ','\n",
    "    for cat in crimeMonths:\n",
    "        s2 += str(crimeMonths[cat][i]) + ','\n",
    "    print(s2.rstrip(','))"
   ]
  },
  {
   "cell_type": "code",
   "execution_count": null,
   "metadata": {},
   "outputs": [],
   "source": []
  }
 ],
 "metadata": {
  "kernelspec": {
   "display_name": "Python 3",
   "language": "python",
   "name": "python3"
  },
  "language_info": {
   "codemirror_mode": {
    "name": "ipython",
    "version": 3
   },
   "file_extension": ".py",
   "mimetype": "text/x-python",
   "name": "python",
   "nbconvert_exporter": "python",
   "pygments_lexer": "ipython3",
   "version": "3.6.1"
  }
 },
 "nbformat": 4,
 "nbformat_minor": 2
}
